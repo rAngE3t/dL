{
 "cells": [
  {
   "cell_type": "code",
   "execution_count": 2,
   "id": "703e6d52",
   "metadata": {},
   "outputs": [
    {
     "name": "stdout",
     "output_type": "stream",
     "text": [
      "and/or\n",
      "and\n",
      "y for continue n for result\n",
      "y\n",
      "enter 1/0\n",
      "1\n",
      "y for continue n for result\n",
      "y\n",
      "enter 1/0\n",
      "0\n",
      "y for continue n for result\n",
      "y\n",
      "enter 1/0\n",
      "5\n",
      "y for continue n for result\n",
      "n\n",
      "result\n",
      "\n",
      "0\n"
     ]
    }
   ],
   "source": [
    "m=[]\n",
    "\n",
    "z=input(\"and/or\\n\")\n",
    "\n",
    "\n",
    "\n",
    "\n",
    "count=1\n",
    "while count>0:\n",
    "        c=input(\"y for continue n for result\\n\")\n",
    "        if c=='y':\n",
    "            x=int(input(\"enter 1/0\\n\"))\n",
    "            if x == 0 or 1 :\n",
    "                m.append(x)\n",
    "            \n",
    "        elif c=='n':\n",
    "            print(\"result\\n\")\n",
    "            break\n",
    "\n",
    "if z == 'and':\n",
    "    if all(m)==1:\n",
    "        print(\"1\")\n",
    "    else:\n",
    "        print(\"0\")\n",
    "elif z == 'or':\n",
    "    if any(m)==1:\n",
    "        print(\"1\")\n",
    "    else:\n",
    "        print(\"0\")"
   ]
  },
  {
   "cell_type": "code",
   "execution_count": null,
   "id": "9a00a901",
   "metadata": {},
   "outputs": [],
   "source": []
  }
 ],
 "metadata": {
  "kernelspec": {
   "display_name": "Python 3 (ipykernel)",
   "language": "python",
   "name": "python3"
  },
  "language_info": {
   "codemirror_mode": {
    "name": "ipython",
    "version": 3
   },
   "file_extension": ".py",
   "mimetype": "text/x-python",
   "name": "python",
   "nbconvert_exporter": "python",
   "pygments_lexer": "ipython3",
   "version": "3.9.13"
  }
 },
 "nbformat": 4,
 "nbformat_minor": 5
}
